{
 "cells": [
  {
   "cell_type": "code",
   "execution_count": 5,
   "id": "6f61a8dc",
   "metadata": {},
   "outputs": [],
   "source": [
    "from sklearn.linear_model import LinearRegression\n",
    "from sklearn.model_selection import train_test_split\n",
    "from sklearn import metrics\n",
    "from sklearn.preprocessing import LabelEncoder,StandardScaler\n",
    "from sklearn.feature_extraction.text import CountVectorizer\n",
    "import pandas as pd\n",
    "import numpy as np\n",
    "import seaborn as sb\n",
    "import matplotlib.pylab as plt"
   ]
  },
  {
   "cell_type": "code",
   "execution_count": 6,
   "id": "ac890a5c",
   "metadata": {},
   "outputs": [],
   "source": [
    "dt = pd.read_csv(\"boxoffice.csv\")"
   ]
  },
  {
   "cell_type": "code",
   "execution_count": 9,
   "id": "6d4c83fb",
   "metadata": {},
   "outputs": [
    {
     "data": {
      "text/html": [
       "<div>\n",
       "<style scoped>\n",
       "    .dataframe tbody tr th:only-of-type {\n",
       "        vertical-align: middle;\n",
       "    }\n",
       "\n",
       "    .dataframe tbody tr th {\n",
       "        vertical-align: top;\n",
       "    }\n",
       "\n",
       "    .dataframe thead th {\n",
       "        text-align: right;\n",
       "    }\n",
       "</style>\n",
       "<table border=\"1\" class=\"dataframe\">\n",
       "  <thead>\n",
       "    <tr style=\"text-align: right;\">\n",
       "      <th></th>\n",
       "      <th>0</th>\n",
       "      <th>1</th>\n",
       "      <th>2</th>\n",
       "      <th>3</th>\n",
       "      <th>4</th>\n",
       "    </tr>\n",
       "  </thead>\n",
       "  <tbody>\n",
       "    <tr>\n",
       "      <th>title</th>\n",
       "      <td>The Avengers</td>\n",
       "      <td>Titanic</td>\n",
       "      <td>Jurassic Park</td>\n",
       "      <td>Avatar</td>\n",
       "      <td>The Lion King</td>\n",
       "    </tr>\n",
       "    <tr>\n",
       "      <th>domestic_revenue</th>\n",
       "      <td>6026491</td>\n",
       "      <td>169411543</td>\n",
       "      <td>107836098</td>\n",
       "      <td>51433697</td>\n",
       "      <td>142791649</td>\n",
       "    </tr>\n",
       "    <tr>\n",
       "      <th>world_revenue</th>\n",
       "      <td>1274885664</td>\n",
       "      <td>1132871091</td>\n",
       "      <td>583329845</td>\n",
       "      <td>1225323391</td>\n",
       "      <td>604140729</td>\n",
       "    </tr>\n",
       "    <tr>\n",
       "      <th>distributor</th>\n",
       "      <td>Warner Bros.</td>\n",
       "      <td>Disney</td>\n",
       "      <td>Sony</td>\n",
       "      <td>Disney</td>\n",
       "      <td>Warner Bros.</td>\n",
       "    </tr>\n",
       "    <tr>\n",
       "      <th>opening_revenue</th>\n",
       "      <td>163620146</td>\n",
       "      <td>85549990</td>\n",
       "      <td>55681429</td>\n",
       "      <td>109775324</td>\n",
       "      <td>59476800</td>\n",
       "    </tr>\n",
       "    <tr>\n",
       "      <th>opening_theaters</th>\n",
       "      <td>253</td>\n",
       "      <td>122</td>\n",
       "      <td>3826</td>\n",
       "      <td>3868</td>\n",
       "      <td>2934</td>\n",
       "    </tr>\n",
       "    <tr>\n",
       "      <th>budget</th>\n",
       "      <td>174687337</td>\n",
       "      <td>103948486</td>\n",
       "      <td>122104991</td>\n",
       "      <td>46431596</td>\n",
       "      <td>203513696</td>\n",
       "    </tr>\n",
       "    <tr>\n",
       "      <th>MPAA</th>\n",
       "      <td>R</td>\n",
       "      <td>G</td>\n",
       "      <td>NC-17</td>\n",
       "      <td>G</td>\n",
       "      <td>R</td>\n",
       "    </tr>\n",
       "    <tr>\n",
       "      <th>genres</th>\n",
       "      <td>Animation</td>\n",
       "      <td>Action</td>\n",
       "      <td>Horror</td>\n",
       "      <td>Horror</td>\n",
       "      <td>Comedy</td>\n",
       "    </tr>\n",
       "    <tr>\n",
       "      <th>release_days</th>\n",
       "      <td>16</td>\n",
       "      <td>103</td>\n",
       "      <td>89</td>\n",
       "      <td>85</td>\n",
       "      <td>158</td>\n",
       "    </tr>\n",
       "  </tbody>\n",
       "</table>\n",
       "</div>"
      ],
      "text/plain": [
       "                             0           1  ...           3              4\n",
       "title             The Avengers     Titanic  ...      Avatar  The Lion King\n",
       "domestic_revenue       6026491   169411543  ...    51433697      142791649\n",
       "world_revenue       1274885664  1132871091  ...  1225323391      604140729\n",
       "distributor       Warner Bros.      Disney  ...      Disney   Warner Bros.\n",
       "opening_revenue      163620146    85549990  ...   109775324       59476800\n",
       "opening_theaters           253         122  ...        3868           2934\n",
       "budget               174687337   103948486  ...    46431596      203513696\n",
       "MPAA                         R           G  ...           G              R\n",
       "genres               Animation      Action  ...      Horror         Comedy\n",
       "release_days                16         103  ...          85            158\n",
       "\n",
       "[10 rows x 5 columns]"
      ]
     },
     "execution_count": 9,
     "metadata": {},
     "output_type": "execute_result"
    }
   ],
   "source": [
    "dt.head().T"
   ]
  },
  {
   "cell_type": "code",
   "execution_count": 8,
   "id": "984c2f10",
   "metadata": {},
   "outputs": [
    {
     "name": "stdout",
     "output_type": "stream",
     "text": [
      "<class 'pandas.core.frame.DataFrame'>\n",
      "RangeIndex: 2694 entries, 0 to 2693\n",
      "Data columns (total 10 columns):\n",
      " #   Column            Non-Null Count  Dtype \n",
      "---  ------            --------------  ----- \n",
      " 0   title             2694 non-null   object\n",
      " 1   domestic_revenue  2694 non-null   int64 \n",
      " 2   world_revenue     2694 non-null   int64 \n",
      " 3   distributor       2694 non-null   object\n",
      " 4   opening_revenue   2694 non-null   int64 \n",
      " 5   opening_theaters  2694 non-null   int64 \n",
      " 6   budget            2694 non-null   int64 \n",
      " 7   MPAA              2694 non-null   object\n",
      " 8   genres            2694 non-null   object\n",
      " 9   release_days      2694 non-null   int64 \n",
      "dtypes: int64(6), object(4)\n",
      "memory usage: 210.6+ KB\n"
     ]
    }
   ],
   "source": [
    "dt.info()"
   ]
  },
  {
   "cell_type": "code",
   "execution_count": 10,
   "id": "601576e4",
   "metadata": {},
   "outputs": [
    {
     "data": {
      "text/plain": [
       "np.int64(0)"
      ]
     },
     "execution_count": 10,
     "metadata": {},
     "output_type": "execute_result"
    }
   ],
   "source": [
    "dt.isnull().sum().sum()"
   ]
  },
  {
   "cell_type": "code",
   "execution_count": 11,
   "id": "b0d06c5a",
   "metadata": {},
   "outputs": [],
   "source": [
    "dt[\"domestic_revenue\"] = dt[\"domestic_revenue\"].astype(str).str[1:]"
   ]
  },
  {
   "cell_type": "code",
   "execution_count": 12,
   "id": "78911e43",
   "metadata": {},
   "outputs": [
    {
     "data": {
      "text/plain": [
       "0      026491\n",
       "1    69411543\n",
       "2    07836098\n",
       "3     1433697\n",
       "4    42791649\n",
       "Name: domestic_revenue, dtype: object"
      ]
     },
     "execution_count": 12,
     "metadata": {},
     "output_type": "execute_result"
    }
   ],
   "source": [
    "dt[\"domestic_revenue\"].head()"
   ]
  },
  {
   "cell_type": "code",
   "execution_count": 13,
   "id": "bab35c49",
   "metadata": {},
   "outputs": [],
   "source": [
    "for c in ['domestic_revenue', 'opening_theaters', 'release_days']:\n",
    "    dt[c] = dt[c].astype(str).str.replace(',','')\n",
    "    temp = (~dt[c].isnull())\n",
    "    dt.loc[temp, c] = dt.loc[temp, c].astype(float)\n",
    "    dt[c] = pd.to_numeric(dt[c],errors='coerce')\n",
    "\n",
    "    "
   ]
  },
  {
   "cell_type": "code",
   "execution_count": null,
   "id": "a444ee86",
   "metadata": {},
   "outputs": [],
   "source": []
  }
 ],
 "metadata": {
  "kernelspec": {
   "display_name": "base",
   "language": "python",
   "name": "python3"
  },
  "language_info": {
   "codemirror_mode": {
    "name": "ipython",
    "version": 3
   },
   "file_extension": ".py",
   "mimetype": "text/x-python",
   "name": "python",
   "nbconvert_exporter": "python",
   "pygments_lexer": "ipython3",
   "version": "3.13.5"
  }
 },
 "nbformat": 4,
 "nbformat_minor": 5
}
